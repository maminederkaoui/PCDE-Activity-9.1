{
 "cells": [
  {
   "cell_type": "markdown",
   "metadata": {},
   "source": [
    "# The Massachusetts Institute of Technology (MIT)\n",
    "\n",
    "**Mohammed Amine DERKAOUI HASSANI @maminederkaoui**\n",
    "\n",
    "The Massachusetts Institute of Technology (MIT) is a private university in Cambridge, Massachusetts. Established in 1861, MIT has since then been at the center of the development of modern technology and science. Since it was founded, MIT has been ranked among the top academic institutions in the world.\n",
    "\n",
    "Seymour Papert did contribute to the field of education and computer science, but he did not create the original MIT logo. The MIT logo has undergone various changes and redesigns over the years, and its origin is not typically attributed to Seymour Papert.\n",
    "\n",
    "![](image.png)"
   ]
  },
  {
   "cell_type": "code",
   "execution_count": null,
   "metadata": {},
   "outputs": [],
   "source": []
  }
 ],
 "metadata": {
  "kernelspec": {
   "display_name": "Python 3",
   "language": "python",
   "name": "python3"
  },
  "language_info": {
   "codemirror_mode": {
    "name": "ipython",
    "version": 3
   },
   "file_extension": ".py",
   "mimetype": "text/x-python",
   "name": "python",
   "nbconvert_exporter": "python",
   "pygments_lexer": "ipython3",
   "version": "3.7.3"
  }
 },
 "nbformat": 4,
 "nbformat_minor": 4
}
